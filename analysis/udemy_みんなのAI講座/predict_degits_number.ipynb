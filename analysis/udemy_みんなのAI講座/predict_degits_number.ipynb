{
 "cells": [
  {
   "cell_type": "code",
   "execution_count": 6,
   "id": "82366cd9",
   "metadata": {},
   "outputs": [
    {
     "name": "stdout",
     "output_type": "stream",
     "text": [
      "==画像データ==\n",
      "[[ 0.  0.  5. 13.  9.  1.  0.  0.]\n",
      " [ 0.  0. 13. 15. 10. 15.  5.  0.]\n",
      " [ 0.  3. 15.  2.  0. 11.  8.  0.]\n",
      " [ 0.  4. 12.  0.  0.  8.  8.  0.]\n",
      " [ 0.  5.  8.  0.  0.  9.  8.  0.]\n",
      " [ 0.  4. 11.  0.  1. 12.  7.  0.]\n",
      " [ 0.  2. 14.  5. 10. 12.  0.  0.]\n",
      " [ 0.  0.  6. 13. 10.  0.  0.  0.]]\n",
      "(1797, 8, 8)\n",
      "==1次元画像データ==\n",
      "[ 0.  0.  5. 13.  9.  1.  0.  0.  0.  0. 13. 15. 10. 15.  5.  0.  0.  3.\n",
      " 15.  2.  0. 11.  8.  0.  0.  4. 12.  0.  0.  8.  8.  0.  0.  5.  8.  0.\n",
      "  0.  9.  8.  0.  0.  4. 11.  0.  1. 12.  7.  0.  0.  2. 14.  5. 10. 12.\n",
      "  0.  0.  0.  0.  6. 13. 10.  0.  0.  0.]\n",
      "(1797, 64)\n",
      "==ラベル==\n",
      "[0 1 2 ... 8 9 8]\n",
      "(1797,)\n"
     ]
    },
    {
     "data": {
      "image/png": "[encoded data removed]",
      "text/plain": [
       "<Figure size 432x288 with 10 Axes>"
      ]
     },
     "metadata": {
      "needs_background": "light"
     },
     "output_type": "display_data"
    }
   ],
   "source": [
    "from sklearn import datasets\n",
    "from sklearn import svm\n",
    "import matplotlib.pyplot as plt\n",
    "\n",
    "digits = datasets.load_digits()\n",
    "print(\"==画像データ==\")\n",
    "print(digits.images[0])\n",
    "print(digits.images.shape)\n",
    "print(\"==1次元画像データ==\")\n",
    "print(digits.data[0])\n",
    "print(digits.data.shape)\n",
    "print(\"==ラベル==\")\n",
    "print(digits.target)\n",
    "print(digits.target.shape)\n",
    "\n",
    "# 画像と正解値の表示\n",
    "images = digits.images\n",
    "labels = digits.target\n",
    "\n",
    "for i in range(10):\n",
    "    plt.subplot(2, 5, i + 1)\n",
    "    plt.imshow(images[i])\n",
    "    plt.axis(\"off\")\n",
    "    plt.title(\"Label: \" + str(labels[i]))\n",
    "    \n",
    "plt.show()"
   ]
  },
  {
   "cell_type": "code",
   "execution_count": 9,
   "id": "3be21fad",
   "metadata": {},
   "outputs": [
    {
     "name": "stdout",
     "output_type": "stream",
     "text": [
      "              precision    recall  f1-score   support\n",
      "\n",
      "           0       1.00      1.00      1.00        44\n",
      "           1       0.96      1.00      0.98        43\n",
      "           2       1.00      1.00      1.00        41\n",
      "           3       0.98      0.98      0.98        44\n",
      "           4       1.00      0.98      0.99        45\n",
      "           5       1.00      1.00      1.00        48\n",
      "           6       1.00      1.00      1.00        46\n",
      "           7       0.98      1.00      0.99        44\n",
      "           8       0.98      0.96      0.97        45\n",
      "           9       0.98      0.96      0.97        50\n",
      "\n",
      "    accuracy                           0.99       450\n",
      "   macro avg       0.99      0.99      0.99       450\n",
      "weighted avg       0.99      0.99      0.99       450\n",
      "\n",
      "[[44  0  0  0  0  0  0  0  0  0]\n",
      " [ 0 43  0  0  0  0  0  0  0  0]\n",
      " [ 0  0 41  0  0  0  0  0  0  0]\n",
      " [ 0  0  0 43  0  0  0  1  0  0]\n",
      " [ 0  0  0  0 44  0  0  0  0  1]\n",
      " [ 0  0  0  0  0 48  0  0  0  0]\n",
      " [ 0  0  0  0  0  0 46  0  0  0]\n",
      " [ 0  0  0  0  0  0  0 44  0  0]\n",
      " [ 0  2  0  0  0  0  0  0 43  0]\n",
      " [ 0  0  0  1  0  0  0  0  1 48]]\n"
     ]
    },
    {
     "data": {
      "image/png": "[encoded data removed]",
      "text/plain": [
       "<Figure size 432x288 with 10 Axes>"
      ]
     },
     "metadata": {
      "needs_background": "light"
     },
     "output_type": "display_data"
    }
   ],
   "source": [
    "from sklearn import datasets\n",
    "from sklearn import svm\n",
    "from sklearn.model_selection import train_test_split\n",
    "from sklearn import metrics\n",
    "import matplotlib.pyplot as plt\n",
    "\n",
    "# 訓練データとテストデータに分割\n",
    "digits = datasets.load_digits()\n",
    "x_train, x_test, t_train, t_test = train_test_split(digits.data, digits.target) # 75%がテストデータ\n",
    "\n",
    "clf = svm.SVC()\n",
    "clf.fit(x_train, t_train)\n",
    "\n",
    "y_test = clf.predict(x_test)\n",
    "print(metrics.classification_report(t_test, y_test)) #正解率\n",
    "print(metrics.confusion_matrix(t_test, y_test)) # 行：正解、　列：予測\n",
    "\n",
    "images = digits.images[:10]\n",
    "y_10 = clf.predict(digits.data[:10])\n",
    "for i in range(10):\n",
    "    plt.subplot(2, 5, i+1)\n",
    "    plt.imshow(images[i])\n",
    "    plt.axis(\"off\")\n",
    "    plt.title(\"Guess: \" + str(y_10[i]))\n",
    "    \n",
    "plt.show()    "
   ]
  },
  {
   "cell_type": "code",
   "execution_count": null,
   "id": "6a5cfade",
   "metadata": {},
   "outputs": [],
   "source": []
  }
 ],
 "metadata": {
  "kernelspec": {
   "display_name": "Python 3",
   "language": "python",
   "name": "python3"
  },
  "language_info": {
   "codemirror_mode": {
    "name": "ipython",
    "version": 3
   },
   "file_extension": ".py",
   "mimetype": "text/x-python",
   "name": "python",
   "nbconvert_exporter": "python",
   "pygments_lexer": "ipython3",
   "version": "3.8.8"
  }
 },
 "nbformat": 4,
 "nbformat_minor": 5
}
