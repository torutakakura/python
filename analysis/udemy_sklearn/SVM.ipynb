{
 "cells": [
  {
   "cell_type": "code",
   "execution_count": 1,
   "id": "941cae1f",
   "metadata": {},
   "outputs": [
    {
     "data": {
      "text/html": [
       "<div>\n",
       "<style scoped>\n",
       "    .dataframe tbody tr th:only-of-type {\n",
       "        vertical-align: middle;\n",
       "    }\n",
       "\n",
       "    .dataframe tbody tr th {\n",
       "        vertical-align: top;\n",
       "    }\n",
       "\n",
       "    .dataframe thead th {\n",
       "        text-align: right;\n",
       "    }\n",
       "</style>\n",
       "<table border=\"1\" class=\"dataframe\">\n",
       "  <thead>\n",
       "    <tr style=\"text-align: right;\">\n",
       "      <th></th>\n",
       "      <th>mean radius</th>\n",
       "      <th>mean texture</th>\n",
       "      <th>mean perimeter</th>\n",
       "      <th>mean area</th>\n",
       "      <th>mean smoothness</th>\n",
       "      <th>mean compactness</th>\n",
       "      <th>mean concavity</th>\n",
       "      <th>mean concave points</th>\n",
       "      <th>mean symmetry</th>\n",
       "      <th>mean fractal dimension</th>\n",
       "      <th>...</th>\n",
       "      <th>worst radius</th>\n",
       "      <th>worst texture</th>\n",
       "      <th>worst perimeter</th>\n",
       "      <th>worst area</th>\n",
       "      <th>worst smoothness</th>\n",
       "      <th>worst compactness</th>\n",
       "      <th>worst concavity</th>\n",
       "      <th>worst concave points</th>\n",
       "      <th>worst symmetry</th>\n",
       "      <th>worst fractal dimension</th>\n",
       "    </tr>\n",
       "  </thead>\n",
       "  <tbody>\n",
       "    <tr>\n",
       "      <th>0</th>\n",
       "      <td>17.99</td>\n",
       "      <td>10.38</td>\n",
       "      <td>122.80</td>\n",
       "      <td>1001.0</td>\n",
       "      <td>0.11840</td>\n",
       "      <td>0.27760</td>\n",
       "      <td>0.3001</td>\n",
       "      <td>0.14710</td>\n",
       "      <td>0.2419</td>\n",
       "      <td>0.07871</td>\n",
       "      <td>...</td>\n",
       "      <td>25.38</td>\n",
       "      <td>17.33</td>\n",
       "      <td>184.60</td>\n",
       "      <td>2019.0</td>\n",
       "      <td>0.1622</td>\n",
       "      <td>0.6656</td>\n",
       "      <td>0.7119</td>\n",
       "      <td>0.2654</td>\n",
       "      <td>0.4601</td>\n",
       "      <td>0.11890</td>\n",
       "    </tr>\n",
       "    <tr>\n",
       "      <th>1</th>\n",
       "      <td>20.57</td>\n",
       "      <td>17.77</td>\n",
       "      <td>132.90</td>\n",
       "      <td>1326.0</td>\n",
       "      <td>0.08474</td>\n",
       "      <td>0.07864</td>\n",
       "      <td>0.0869</td>\n",
       "      <td>0.07017</td>\n",
       "      <td>0.1812</td>\n",
       "      <td>0.05667</td>\n",
       "      <td>...</td>\n",
       "      <td>24.99</td>\n",
       "      <td>23.41</td>\n",
       "      <td>158.80</td>\n",
       "      <td>1956.0</td>\n",
       "      <td>0.1238</td>\n",
       "      <td>0.1866</td>\n",
       "      <td>0.2416</td>\n",
       "      <td>0.1860</td>\n",
       "      <td>0.2750</td>\n",
       "      <td>0.08902</td>\n",
       "    </tr>\n",
       "    <tr>\n",
       "      <th>2</th>\n",
       "      <td>19.69</td>\n",
       "      <td>21.25</td>\n",
       "      <td>130.00</td>\n",
       "      <td>1203.0</td>\n",
       "      <td>0.10960</td>\n",
       "      <td>0.15990</td>\n",
       "      <td>0.1974</td>\n",
       "      <td>0.12790</td>\n",
       "      <td>0.2069</td>\n",
       "      <td>0.05999</td>\n",
       "      <td>...</td>\n",
       "      <td>23.57</td>\n",
       "      <td>25.53</td>\n",
       "      <td>152.50</td>\n",
       "      <td>1709.0</td>\n",
       "      <td>0.1444</td>\n",
       "      <td>0.4245</td>\n",
       "      <td>0.4504</td>\n",
       "      <td>0.2430</td>\n",
       "      <td>0.3613</td>\n",
       "      <td>0.08758</td>\n",
       "    </tr>\n",
       "    <tr>\n",
       "      <th>3</th>\n",
       "      <td>11.42</td>\n",
       "      <td>20.38</td>\n",
       "      <td>77.58</td>\n",
       "      <td>386.1</td>\n",
       "      <td>0.14250</td>\n",
       "      <td>0.28390</td>\n",
       "      <td>0.2414</td>\n",
       "      <td>0.10520</td>\n",
       "      <td>0.2597</td>\n",
       "      <td>0.09744</td>\n",
       "      <td>...</td>\n",
       "      <td>14.91</td>\n",
       "      <td>26.50</td>\n",
       "      <td>98.87</td>\n",
       "      <td>567.7</td>\n",
       "      <td>0.2098</td>\n",
       "      <td>0.8663</td>\n",
       "      <td>0.6869</td>\n",
       "      <td>0.2575</td>\n",
       "      <td>0.6638</td>\n",
       "      <td>0.17300</td>\n",
       "    </tr>\n",
       "    <tr>\n",
       "      <th>4</th>\n",
       "      <td>20.29</td>\n",
       "      <td>14.34</td>\n",
       "      <td>135.10</td>\n",
       "      <td>1297.0</td>\n",
       "      <td>0.10030</td>\n",
       "      <td>0.13280</td>\n",
       "      <td>0.1980</td>\n",
       "      <td>0.10430</td>\n",
       "      <td>0.1809</td>\n",
       "      <td>0.05883</td>\n",
       "      <td>...</td>\n",
       "      <td>22.54</td>\n",
       "      <td>16.67</td>\n",
       "      <td>152.20</td>\n",
       "      <td>1575.0</td>\n",
       "      <td>0.1374</td>\n",
       "      <td>0.2050</td>\n",
       "      <td>0.4000</td>\n",
       "      <td>0.1625</td>\n",
       "      <td>0.2364</td>\n",
       "      <td>0.07678</td>\n",
       "    </tr>\n",
       "  </tbody>\n",
       "</table>\n",
       "<p>5 rows × 30 columns</p>\n",
       "</div>"
      ],
      "text/plain": [
       "   mean radius  mean texture  mean perimeter  mean area  mean smoothness  \\\n",
       "0        17.99         10.38          122.80     1001.0          0.11840   \n",
       "1        20.57         17.77          132.90     1326.0          0.08474   \n",
       "2        19.69         21.25          130.00     1203.0          0.10960   \n",
       "3        11.42         20.38           77.58      386.1          0.14250   \n",
       "4        20.29         14.34          135.10     1297.0          0.10030   \n",
       "\n",
       "   mean compactness  mean concavity  mean concave points  mean symmetry  \\\n",
       "0           0.27760          0.3001              0.14710         0.2419   \n",
       "1           0.07864          0.0869              0.07017         0.1812   \n",
       "2           0.15990          0.1974              0.12790         0.2069   \n",
       "3           0.28390          0.2414              0.10520         0.2597   \n",
       "4           0.13280          0.1980              0.10430         0.1809   \n",
       "\n",
       "   mean fractal dimension  ...  worst radius  worst texture  worst perimeter  \\\n",
       "0                 0.07871  ...         25.38          17.33           184.60   \n",
       "1                 0.05667  ...         24.99          23.41           158.80   \n",
       "2                 0.05999  ...         23.57          25.53           152.50   \n",
       "3                 0.09744  ...         14.91          26.50            98.87   \n",
       "4                 0.05883  ...         22.54          16.67           152.20   \n",
       "\n",
       "   worst area  worst smoothness  worst compactness  worst concavity  \\\n",
       "0      2019.0            0.1622             0.6656           0.7119   \n",
       "1      1956.0            0.1238             0.1866           0.2416   \n",
       "2      1709.0            0.1444             0.4245           0.4504   \n",
       "3       567.7            0.2098             0.8663           0.6869   \n",
       "4      1575.0            0.1374             0.2050           0.4000   \n",
       "\n",
       "   worst concave points  worst symmetry  worst fractal dimension  \n",
       "0                0.2654          0.4601                  0.11890  \n",
       "1                0.1860          0.2750                  0.08902  \n",
       "2                0.2430          0.3613                  0.08758  \n",
       "3                0.2575          0.6638                  0.17300  \n",
       "4                0.1625          0.2364                  0.07678  \n",
       "\n",
       "[5 rows x 30 columns]"
      ]
     },
     "execution_count": 1,
     "metadata": {},
     "output_type": "execute_result"
    }
   ],
   "source": [
    "# 乳がんのデータの読み込み\n",
    "\n",
    "import pandas as pd\n",
    "import numpy as np\n",
    "\n",
    "np.random.seed(1)\n",
    "\n",
    "from sklearn.datasets import load_breast_cancer\n",
    "data = load_breast_cancer()\n",
    "df_X = pd.DataFrame(data=data.data, columns=data.feature_names)\n",
    "df_X.head()"
   ]
  },
  {
   "cell_type": "code",
   "execution_count": 2,
   "id": "88c7c0e2",
   "metadata": {},
   "outputs": [
    {
     "data": {
      "text/html": [
       "<div>\n",
       "<style scoped>\n",
       "    .dataframe tbody tr th:only-of-type {\n",
       "        vertical-align: middle;\n",
       "    }\n",
       "\n",
       "    .dataframe tbody tr th {\n",
       "        vertical-align: top;\n",
       "    }\n",
       "\n",
       "    .dataframe thead th {\n",
       "        text-align: right;\n",
       "    }\n",
       "</style>\n",
       "<table border=\"1\" class=\"dataframe\">\n",
       "  <thead>\n",
       "    <tr style=\"text-align: right;\">\n",
       "      <th></th>\n",
       "      <th>判定（0: 悪性 / 1: 良性）</th>\n",
       "    </tr>\n",
       "  </thead>\n",
       "  <tbody>\n",
       "    <tr>\n",
       "      <th>0</th>\n",
       "      <td>0</td>\n",
       "    </tr>\n",
       "    <tr>\n",
       "      <th>1</th>\n",
       "      <td>0</td>\n",
       "    </tr>\n",
       "    <tr>\n",
       "      <th>2</th>\n",
       "      <td>0</td>\n",
       "    </tr>\n",
       "    <tr>\n",
       "      <th>3</th>\n",
       "      <td>0</td>\n",
       "    </tr>\n",
       "    <tr>\n",
       "      <th>4</th>\n",
       "      <td>0</td>\n",
       "    </tr>\n",
       "  </tbody>\n",
       "</table>\n",
       "</div>"
      ],
      "text/plain": [
       "   判定（0: 悪性 / 1: 良性）\n",
       "0                  0\n",
       "1                  0\n",
       "2                  0\n",
       "3                  0\n",
       "4                  0"
      ]
     },
     "execution_count": 2,
     "metadata": {},
     "output_type": "execute_result"
    }
   ],
   "source": [
    "df_Y = pd.DataFrame(data=data.target)\n",
    "df_Y = df_Y.rename(columns={0:'判定（0: 悪性 / 1: 良性）'})\n",
    "df_Y.head()"
   ]
  },
  {
   "cell_type": "code",
   "execution_count": 3,
   "id": "77af8b51",
   "metadata": {},
   "outputs": [],
   "source": [
    "X = df_X.values\n",
    "Y = df_Y.values.ravel()\n",
    "\n",
    "from sklearn.model_selection import train_test_split\n",
    "# データを訓練用と評価用に分割する\n",
    "X_train,X_test, Y_train, Y_test = train_test_split(X, Y, test_size=0.3)"
   ]
  },
  {
   "cell_type": "code",
   "execution_count": 4,
   "id": "ba006614",
   "metadata": {},
   "outputs": [
    {
     "data": {
      "text/plain": [
       "array([[1.152e+01, 1.493e+01, 7.387e+01, ..., 9.608e-02, 2.664e-01,\n",
       "        7.809e-02],\n",
       "       [1.305e+01, 1.931e+01, 8.261e+01, ..., 1.111e-02, 2.439e-01,\n",
       "        6.289e-02],\n",
       "       [1.420e+01, 2.053e+01, 9.241e+01, ..., 1.339e-01, 2.534e-01,\n",
       "        7.858e-02],\n",
       "       ...,\n",
       "       [1.720e+01, 2.452e+01, 1.142e+02, ..., 1.899e-01, 3.313e-01,\n",
       "        1.339e-01],\n",
       "       [1.403e+01, 2.125e+01, 8.979e+01, ..., 7.963e-02, 2.226e-01,\n",
       "        7.617e-02],\n",
       "       [1.303e+01, 1.842e+01, 8.261e+01, ..., 5.013e-02, 1.987e-01,\n",
       "        6.169e-02]])"
      ]
     },
     "execution_count": 4,
     "metadata": {},
     "output_type": "execute_result"
    }
   ],
   "source": [
    "X_train"
   ]
  },
  {
   "cell_type": "code",
   "execution_count": 5,
   "id": "977fee6e",
   "metadata": {},
   "outputs": [
    {
     "data": {
      "text/plain": [
       "array([1, 1, 1, 1, 1, 1, 1, 1, 1, 1, 1, 1, 1, 1, 0, 0, 1, 0, 1, 1, 1, 1,\n",
       "       0, 0, 1, 1, 0, 0, 1, 0, 1, 0, 1, 0, 0, 1, 1, 0, 0, 1, 1, 1, 1, 0,\n",
       "       1, 1, 1, 1, 1, 1, 1, 0, 1, 0, 1, 1, 0, 0, 0, 0, 1, 1, 0, 1, 0, 0,\n",
       "       0, 1, 0, 1, 1, 1, 1, 1, 0, 1, 1, 0, 0, 0, 0, 1, 0, 1, 1, 0, 1, 0,\n",
       "       1, 1, 1, 0, 1, 1, 1, 0, 1, 1, 1, 1, 0, 1, 1, 0, 0, 0, 1, 1, 0, 1,\n",
       "       1, 1, 1, 1, 0, 1, 1, 1, 0, 1, 0, 0, 0, 0, 1, 0, 0, 0, 1, 1, 0, 1,\n",
       "       1, 1, 1, 0, 0, 1, 1, 1, 0, 1, 1, 1, 0, 1, 1, 0, 1, 1, 1, 1, 0, 0,\n",
       "       1, 0, 0, 1, 0, 1, 0, 0, 1, 1, 0, 1, 1, 1, 1, 1, 0, 1, 1, 1, 1, 0,\n",
       "       1, 1, 1, 1, 1, 0, 0, 0, 1, 0, 0, 1, 0, 1, 1, 1, 0, 1, 0, 1, 1, 1,\n",
       "       1, 0, 0, 1, 1, 1, 1, 0, 1, 1, 0, 0, 0, 1, 0, 0, 0, 1, 1, 1, 1, 1,\n",
       "       1, 1, 0, 1, 0, 0, 0, 0, 1, 1, 0, 1, 1, 1, 1, 1, 1, 1, 0, 0, 1, 1,\n",
       "       1, 1, 0, 1, 1, 1, 1, 0, 1, 1, 1, 0, 1, 0, 1, 1, 0, 0, 0, 0, 0, 1,\n",
       "       1, 1, 1, 1, 0, 1, 1, 1, 1, 0, 0, 1, 1, 1, 0, 1, 1, 1, 0, 1, 1, 0,\n",
       "       1, 1, 0, 1, 0, 1, 1, 1, 1, 0, 0, 1, 1, 1, 0, 1, 0, 0, 0, 1, 1, 1,\n",
       "       0, 1, 1, 1, 0, 0, 0, 1, 0, 1, 0, 0, 1, 1, 1, 1, 0, 0, 1, 1, 1, 1,\n",
       "       1, 0, 0, 1, 0, 1, 1, 1, 1, 1, 0, 0, 1, 1, 1, 1, 0, 0, 0, 1, 1, 0,\n",
       "       0, 0, 0, 1, 0, 1, 0, 0, 1, 1, 1, 1, 1, 1, 1, 1, 0, 1, 1, 1, 1, 1,\n",
       "       1, 0, 0, 0, 0, 1, 0, 0, 1, 1, 0, 0, 1, 0, 1, 1, 1, 1, 1, 0, 1, 0,\n",
       "       1, 1])"
      ]
     },
     "execution_count": 5,
     "metadata": {},
     "output_type": "execute_result"
    }
   ],
   "source": [
    "Y_train"
   ]
  },
  {
   "cell_type": "markdown",
   "id": "a666bb84",
   "metadata": {},
   "source": [
    "### SVNによる分類"
   ]
  },
  {
   "cell_type": "code",
   "execution_count": 6,
   "id": "4d396053",
   "metadata": {},
   "outputs": [
    {
     "data": {
      "text/plain": [
       "SVC()"
      ]
     },
     "execution_count": 6,
     "metadata": {},
     "output_type": "execute_result"
    }
   ],
   "source": [
    "from sklearn import svm\n",
    "# 分類時の問題ではsvm.SVC()を使用する\n",
    "clf = svm.SVC()\n",
    "clf.fit(X_train, Y_train)"
   ]
  },
  {
   "cell_type": "code",
   "execution_count": 7,
   "id": "04cdd0e0",
   "metadata": {},
   "outputs": [
    {
     "data": {
      "text/plain": [
       "array([[ 51,  12],\n",
       "       [  2, 106]], dtype=int64)"
      ]
     },
     "execution_count": 7,
     "metadata": {},
     "output_type": "execute_result"
    }
   ],
   "source": [
    "Y_pred = clf.predict(X_test)\n",
    "\n",
    "# 混合行列\n",
    "from sklearn.metrics import confusion_matrix\n",
    "confusion_matrix(y_true=Y_test, y_pred=Y_pred)"
   ]
  },
  {
   "cell_type": "code",
   "execution_count": 8,
   "id": "3006f0fe",
   "metadata": {},
   "outputs": [
    {
     "name": "stdout",
     "output_type": "stream",
     "text": [
      "正解率：0.9181286549707602\n",
      "適合率：0.8983050847457628\n",
      "再現率：0.9814814814814815\n",
      "F1スコア：0.9380530973451328\n"
     ]
    }
   ],
   "source": [
    "from sklearn.metrics import accuracy_score\n",
    "from sklearn.metrics import precision_score\n",
    "from sklearn.metrics import recall_score\n",
    "from sklearn.metrics import f1_score\n",
    "\n",
    "print('正解率：{}'.format(accuracy_score(y_true=Y_test, y_pred=Y_pred)))\n",
    "print('適合率：{}'.format(precision_score(y_true=Y_test, y_pred=Y_pred)))\n",
    "print('再現率：{}'.format(recall_score(y_true=Y_test, y_pred=Y_pred)))\n",
    "print('F1スコア：{}'.format(f1_score(y_true=Y_test, y_pred=Y_pred)))\n"
   ]
  },
  {
   "cell_type": "code",
   "execution_count": 9,
   "id": "bd4e1c88",
   "metadata": {},
   "outputs": [],
   "source": [
    "# 標準化\n",
    "from sklearn.preprocessing import StandardScaler\n",
    "stdsc = StandardScaler()\n",
    "X_train_std = stdsc.fit_transform(X_train)\n",
    "X_test_std = stdsc.fit_transform(X_test)"
   ]
  },
  {
   "cell_type": "code",
   "execution_count": 10,
   "id": "376f6bfb",
   "metadata": {},
   "outputs": [
    {
     "data": {
      "text/plain": [
       "array([[ 60,   3],\n",
       "       [  3, 105]], dtype=int64)"
      ]
     },
     "execution_count": 10,
     "metadata": {},
     "output_type": "execute_result"
    }
   ],
   "source": [
    "clf = svm.SVC()\n",
    "clf.fit(X_train_std, Y_train)\n",
    "\n",
    "# X_test_stdの値から分割直線の式を得る\n",
    "Y_pred_std = clf.predict(X_test_std)\n",
    "confusion_matrix(y_true=Y_test, y_pred=Y_pred_std)"
   ]
  },
  {
   "cell_type": "code",
   "execution_count": 11,
   "id": "36f41052",
   "metadata": {},
   "outputs": [
    {
     "name": "stdout",
     "output_type": "stream",
     "text": [
      "正解率：0.9649122807017544\n",
      "適合率：0.9722222222222222\n",
      "再現率：0.9722222222222222\n",
      "F1スコア：0.9722222222222222\n"
     ]
    }
   ],
   "source": [
    "print('正解率：{}'.format(accuracy_score(y_true=Y_test, y_pred=Y_pred_std)))\n",
    "print('適合率：{}'.format(precision_score(y_true=Y_test, y_pred=Y_pred_std)))\n",
    "print('再現率：{}'.format(recall_score(y_true=Y_test, y_pred=Y_pred_std)))\n",
    "print('F1スコア：{}'.format(f1_score(y_true=Y_test, y_pred=Y_pred_std)))\n"
   ]
  },
  {
   "cell_type": "code",
   "execution_count": 12,
   "id": "28edcbcb",
   "metadata": {},
   "outputs": [
    {
     "data": {
      "text/plain": [
       "{'C': 1.0,\n",
       " 'break_ties': False,\n",
       " 'cache_size': 200,\n",
       " 'class_weight': None,\n",
       " 'coef0': 0.0,\n",
       " 'decision_function_shape': 'ovr',\n",
       " 'degree': 3,\n",
       " 'gamma': 'scale',\n",
       " 'kernel': 'rbf',\n",
       " 'max_iter': -1,\n",
       " 'probability': False,\n",
       " 'random_state': None,\n",
       " 'shrinking': True,\n",
       " 'tol': 0.001,\n",
       " 'verbose': False}"
      ]
     },
     "execution_count": 12,
     "metadata": {},
     "output_type": "execute_result"
    }
   ],
   "source": [
    "# ハイパーパラメータの取得\n",
    "clf.get_params()"
   ]
  },
  {
   "cell_type": "code",
   "execution_count": 14,
   "id": "c5fcf0d0",
   "metadata": {},
   "outputs": [
    {
     "data": {
      "text/plain": [
       "0.9532163742690059"
      ]
     },
     "execution_count": 14,
     "metadata": {},
     "output_type": "execute_result"
    }
   ],
   "source": [
    "# グリッドサーチパラメータを取得\n",
    "from sklearn.model_selection import GridSearchCV\n",
    "\n",
    "# サーチするパラメータをグリッド\n",
    "param_grid = {\n",
    "    'C':[0.001, 0.01, 1.0, 10.0, 100.0],\n",
    "    'gamma':[0.00001, 0.0001, 0.001, 0.01, 0.1]\n",
    "}\n",
    "\n",
    "# モデルsvdに作成したグリッド、交差検証戦略は5分化交差検証\n",
    "grid_search = GridSearchCV(clf, param_grid,cv=5, scoring=\"accuracy\")\n",
    "\n",
    "# cv=5 なので試験用データと評価用データが5分割され交差検証される\n",
    "grid_search.fit(X_train_std, Y_train)\n",
    "grid_search.score(X_test_std, Y_test)"
   ]
  },
  {
   "cell_type": "code",
   "execution_count": 16,
   "id": "af8d7d22",
   "metadata": {},
   "outputs": [
    {
     "data": {
      "text/plain": [
       "{'C': 100.0, 'gamma': 0.001}"
      ]
     },
     "execution_count": 16,
     "metadata": {},
     "output_type": "execute_result"
    }
   ],
   "source": [
    "grid_search.best_params_"
   ]
  },
  {
   "cell_type": "code",
   "execution_count": 17,
   "id": "5f97e23e",
   "metadata": {},
   "outputs": [
    {
     "data": {
      "text/plain": [
       "array([[ 60,   3],\n",
       "       [  5, 103]], dtype=int64)"
      ]
     },
     "execution_count": 17,
     "metadata": {},
     "output_type": "execute_result"
    }
   ],
   "source": [
    "Y_pred = grid_search.predict(X_test_std)\n",
    "confusion_matrix(y_true=Y_test, y_pred=Y_pred)"
   ]
  },
  {
   "cell_type": "code",
   "execution_count": 18,
   "id": "c414f334",
   "metadata": {},
   "outputs": [
    {
     "name": "stdout",
     "output_type": "stream",
     "text": [
      "正解率：0.9532163742690059\n",
      "適合率：0.9716981132075472\n",
      "再現率：0.9537037037037037\n",
      "F1スコア：0.9626168224299064\n"
     ]
    }
   ],
   "source": [
    "print('正解率：{}'.format(accuracy_score(y_true=Y_test, y_pred=Y_pred)))\n",
    "print('適合率：{}'.format(precision_score(y_true=Y_test, y_pred=Y_pred)))\n",
    "print('再現率：{}'.format(recall_score(y_true=Y_test, y_pred=Y_pred)))\n",
    "print('F1スコア：{}'.format(f1_score(y_true=Y_test, y_pred=Y_pred)))\n"
   ]
  },
  {
   "cell_type": "code",
   "execution_count": 20,
   "id": "08829146",
   "metadata": {},
   "outputs": [],
   "source": [
    "# 線形分離が不可能な問題 カーネル法を適応\n",
    "\n",
    "from sklearn.datasets import make_gaussian_quantiles\n",
    "# 等方性ガウス分布を生成\n",
    "# 特徴量の数を２、増数を２に設定してデータセットを生成する\n",
    "X, Y = make_gaussian_quantiles(n_samples=100, n_features=2, n_classes=2)"
   ]
  },
  {
   "cell_type": "code",
   "execution_count": 21,
   "id": "f9f0efbb",
   "metadata": {},
   "outputs": [
    {
     "data": {
      "text/plain": [
       "array([[ 1.37751003,  0.08479693],\n",
       "       [-0.39747486, -0.33473222],\n",
       "       [ 0.61934484, -0.76369214],\n",
       "       [-1.83170831,  0.50491034],\n",
       "       [-1.46212022,  0.26358548],\n",
       "       [-0.67968274, -0.66236409],\n",
       "       [ 0.19860938, -0.27070563],\n",
       "       [ 2.04670864, -0.56377808],\n",
       "       [-0.66048031, -1.14562293],\n",
       "       [-0.66741825,  0.45771649],\n",
       "       [-1.07367517, -0.06310293],\n",
       "       [ 0.80409543,  0.93496704],\n",
       "       [-1.62247894,  0.56385598],\n",
       "       [-0.90543066,  1.6284265 ],\n",
       "       [ 0.04771979, -1.97987568],\n",
       "       [-1.11512167, -0.13108975],\n",
       "       [-0.19282091, -1.05924133],\n",
       "       [ 1.07525473,  0.39556907],\n",
       "       [ 0.82006883, -1.5113229 ],\n",
       "       [-1.60952126, -0.39648589],\n",
       "       [ 0.32657988, -0.72790243],\n",
       "       [ 1.41899858, -0.37432703],\n",
       "       [ 1.62918731,  0.1527367 ],\n",
       "       [ 0.25482901, -0.06677778],\n",
       "       [-0.47474784, -0.32634123],\n",
       "       [-0.02061065,  0.9652681 ],\n",
       "       [ 0.90495867,  0.30421596],\n",
       "       [ 1.25764523, -0.21418251],\n",
       "       [ 0.80510449,  0.96030643],\n",
       "       [ 0.21418147,  0.44016345],\n",
       "       [ 0.72853555,  1.31207395],\n",
       "       [ 0.96488728, -0.74145421],\n",
       "       [-0.11910933, -2.20836387],\n",
       "       [-0.78780205, -1.31421482],\n",
       "       [ 0.905865  ,  0.86426072],\n",
       "       [ 0.26566099,  0.23735883],\n",
       "       [-0.71011652, -1.00367701],\n",
       "       [ 1.38927074,  0.30418267],\n",
       "       [ 1.27578812,  0.72188776],\n",
       "       [-0.22934157, -0.54448383],\n",
       "       [-0.51079613,  1.8800949 ],\n",
       "       [-1.09596716,  0.68851267],\n",
       "       [ 0.75073347,  0.80973852],\n",
       "       [ 0.4164165 , -0.36566564],\n",
       "       [-0.75397441,  1.05313404],\n",
       "       [ 1.44613141,  1.13658952],\n",
       "       [-1.94725692, -0.34432495],\n",
       "       [ 0.9434644 , -0.39127681],\n",
       "       [-0.81658934,  0.60162704],\n",
       "       [ 0.64277466,  0.53024677],\n",
       "       [ 1.86888402,  0.15070528],\n",
       "       [ 1.89579139,  0.66821393],\n",
       "       [-0.72003469, -0.42465645],\n",
       "       [ 0.20981315,  0.22817706],\n",
       "       [-0.28778878, -0.07472821],\n",
       "       [ 0.25647913, -0.22918808],\n",
       "       [ 0.46121259, -1.32152796],\n",
       "       [-2.08163865,  1.26696681],\n",
       "       [-0.24873054,  1.08966657],\n",
       "       [-0.31900225, -0.01514713],\n",
       "       [-0.42331714, -1.24186801],\n",
       "       [ 1.22823695, -0.00696458],\n",
       "       [ 0.12312505, -1.36959979],\n",
       "       [ 0.43494945,  0.68021216],\n",
       "       [-0.3070406 , -0.38474885],\n",
       "       [-1.07811369, -0.29237557],\n",
       "       [ 0.23316431,  0.46048559],\n",
       "       [-0.48602593, -0.23140424],\n",
       "       [-1.60805641,  0.76368046],\n",
       "       [ 0.28124718, -1.25402074],\n",
       "       [ 1.34103368,  1.15154069],\n",
       "       [-1.86970888, -0.89245922],\n",
       "       [ 1.45531938, -0.26762955],\n",
       "       [ 0.31107257,  0.21571449],\n",
       "       [-0.70843203, -0.65009357],\n",
       "       [-0.47510715, -1.95950744],\n",
       "       [-0.08080397, -0.72761512],\n",
       "       [ 0.64222491,  0.05760804],\n",
       "       [ 0.11424793,  1.01375566],\n",
       "       [ 0.23672654,  0.68017978],\n",
       "       [-0.56865808,  1.27493789],\n",
       "       [ 0.84179769, -1.0415669 ],\n",
       "       [-0.10307756,  1.40936416],\n",
       "       [-0.31673288, -1.36876034],\n",
       "       [-0.24644001,  0.7679667 ],\n",
       "       [-1.05828522, -0.10194848],\n",
       "       [ 1.31859127, -0.30966987],\n",
       "       [-1.18283883, -0.6051015 ],\n",
       "       [-0.23661571,  1.73542616],\n",
       "       [ 1.11861489,  0.71985978],\n",
       "       [ 0.02801257,  0.69445039],\n",
       "       [ 0.02792344,  1.58474465],\n",
       "       [-1.3802272 ,  0.02552853],\n",
       "       [-0.62686465,  3.2705657 ],\n",
       "       [ 0.12125851, -0.71523766],\n",
       "       [-0.23466471,  1.21461613],\n",
       "       [ 0.01518915, -0.81261974],\n",
       "       [-0.00630403, -0.20029988],\n",
       "       [ 0.20455563,  0.79377953],\n",
       "       [-1.43810487,  1.65905261]])"
      ]
     },
     "execution_count": 21,
     "metadata": {},
     "output_type": "execute_result"
    }
   ],
   "source": [
    "X"
   ]
  },
  {
   "cell_type": "code",
   "execution_count": 22,
   "id": "8c6bc97e",
   "metadata": {},
   "outputs": [
    {
     "data": {
      "text/plain": [
       "array([1, 0, 0, 1, 1, 0, 0, 1, 1, 0, 0, 0, 1, 1, 1, 0, 0, 0, 1, 1, 0, 1,\n",
       "       1, 0, 0, 0, 0, 1, 1, 0, 1, 0, 1, 1, 1, 0, 0, 1, 1, 0, 1, 1, 0, 0,\n",
       "       1, 1, 1, 0, 0, 0, 1, 1, 0, 0, 0, 0, 1, 1, 0, 0, 1, 0, 1, 0, 0, 0,\n",
       "       0, 0, 1, 1, 1, 1, 1, 0, 0, 1, 0, 0, 0, 0, 1, 1, 1, 1, 0, 0, 1, 1,\n",
       "       1, 1, 0, 1, 1, 1, 0, 1, 0, 0, 0, 1])"
      ]
     },
     "execution_count": 22,
     "metadata": {},
     "output_type": "execute_result"
    }
   ],
   "source": [
    "Y"
   ]
  },
  {
   "cell_type": "code",
   "execution_count": 25,
   "id": "28517623",
   "metadata": {},
   "outputs": [
    {
     "data": {
      "image/png": "[encoded data removed]",
      "text/plain": [
       "<Figure size 432x288 with 1 Axes>"
      ]
     },
     "metadata": {},
     "output_type": "display_data"
    }
   ],
   "source": [
    "import matplotlib\n",
    "import matplotlib.pyplot as plt\n",
    "\n",
    "matplotlib.style.use('seaborn-whitegrid')\n",
    "plt.title('make gaussian quantiles : n_features=2, n_classes=2')\n",
    "plt.scatter(X[:, 0], X[:, 1], marker='o', c=Y, s=25, edgecolor='k')\n",
    "plt.xlabel('feature1')\n",
    "plt.ylabel('feature2')\n",
    "plt.show()"
   ]
  },
  {
   "cell_type": "code",
   "execution_count": 26,
   "id": "3981ca9e",
   "metadata": {},
   "outputs": [],
   "source": [
    "X_train, X_test, Y_train, Y_test = train_test_split(X, Y, test_size=0.3)"
   ]
  },
  {
   "cell_type": "code",
   "execution_count": 27,
   "id": "0e1e78e9",
   "metadata": {},
   "outputs": [],
   "source": [
    "clf = svm.SVC()\n",
    "clf.fit(X_train, Y_train)\n",
    "pred = clf.predict(X_test)"
   ]
  },
  {
   "cell_type": "code",
   "execution_count": 30,
   "id": "338b2681",
   "metadata": {},
   "outputs": [
    {
     "data": {
      "text/plain": [
       "array([[13,  3],\n",
       "       [ 2, 12]], dtype=int64)"
      ]
     },
     "execution_count": 30,
     "metadata": {},
     "output_type": "execute_result"
    }
   ],
   "source": [
    "Y_pred = clf.predict(X_test)\n",
    "\n",
    "from sklearn.metrics import confusion_matrix\n",
    "confusion_matrix(y_true=Y_test, y_pred=Y_pred)"
   ]
  },
  {
   "cell_type": "code",
   "execution_count": 36,
   "id": "2f10827b",
   "metadata": {
    "scrolled": true
   },
   "outputs": [
    {
     "name": "stdout",
     "output_type": "stream",
     "text": [
      "正解率：0.8333333333333334\n",
      "適合率：0.8\n",
      "再現率：0.8571428571428571\n",
      "F1スコア：0.8275862068965518\n"
     ]
    }
   ],
   "source": [
    "print('正解率：{}'.format(accuracy_score(y_true=Y_test, y_pred=Y_pred)))\n",
    "print('適合率：{}'.format(precision_score(y_true=Y_test, y_pred=Y_pred)))\n",
    "print('再現率：{}'.format(recall_score(y_true=Y_test, y_pred=Y_pred)))\n",
    "print('F1スコア：{}'.format(f1_score(y_true=Y_test, y_pred=Y_pred)))\n"
   ]
  },
  {
   "cell_type": "code",
   "execution_count": 40,
   "id": "44573d1a",
   "metadata": {},
   "outputs": [],
   "source": [
    "# ガウス分布\n",
    "\n",
    "from sklearn.datasets import make_gaussian_quantiles\n",
    "X, Y = make_gaussian_quantiles(n_samples=100, n_features=2, n_classes=2)"
   ]
  },
  {
   "cell_type": "code",
   "execution_count": 41,
   "id": "9ed2b564",
   "metadata": {},
   "outputs": [
    {
     "data": {
      "image/png": "[encoded data removed]",
      "text/plain": [
       "<Figure size 432x288 with 1 Axes>"
      ]
     },
     "metadata": {},
     "output_type": "display_data"
    }
   ],
   "source": [
    "import matplotlib.pyplot as plt\n",
    "\n",
    "matplotlib.style.use(\"seaborn-whitegrid\")\n",
    "plt.title(\"make gaussian quantiles : feature1, feature2\")\n",
    "plt.scatter(X[:, 0], X[:, 1], marker=\"o\", c=Y, edgecolor=\"k\")\n",
    "plt.xlabel(\"feature1\")\n",
    "plt.ylabel(\"feature2\")\n",
    "plt.show()"
   ]
  },
  {
   "cell_type": "code",
   "execution_count": 42,
   "id": "09638318",
   "metadata": {},
   "outputs": [],
   "source": [
    "X_train, X_test, Y_train, Y_test = train_test_split(X, Y, test_size=0.3)"
   ]
  },
  {
   "cell_type": "code",
   "execution_count": 43,
   "id": "3ec0bbed",
   "metadata": {},
   "outputs": [
    {
     "data": {
      "text/plain": [
       "array([[-4.46699203e-01,  2.04377395e-01],\n",
       "       [-1.98937450e-01,  3.01960045e-01],\n",
       "       [ 1.37975819e+00,  6.02450901e-01],\n",
       "       [ 1.15259914e+00, -2.24235772e-01],\n",
       "       [ 3.55717262e-01,  8.49586845e-01],\n",
       "       [ 9.49961101e-02,  8.07509886e-02],\n",
       "       [-3.59224096e-01,  5.05381903e-01],\n",
       "       [ 7.25550518e-01, -3.24204219e-01],\n",
       "       [ 6.08783659e-01, -1.88141087e+00],\n",
       "       [-3.79517516e-01, -1.01480369e+00],\n",
       "       [ 4.94341651e-01, -1.49419377e+00],\n",
       "       [ 5.90039464e-01, -6.79383783e-01],\n",
       "       [ 1.10223673e+00, -1.22957425e+00],\n",
       "       [ 1.80358898e+00, -4.52524973e-01],\n",
       "       [-1.46405357e+00, -1.54491194e-01],\n",
       "       [ 3.98598388e-01, -1.92003697e-01],\n",
       "       [-3.05376438e+00,  4.79852371e-01],\n",
       "       [ 2.39014596e+00,  2.45422849e-01],\n",
       "       [-2.14444405e+00, -3.69562425e-01],\n",
       "       [ 5.72962726e-01,  4.57947076e-01],\n",
       "       [-3.26061306e-01, -3.09114176e-02],\n",
       "       [ 8.14343129e-01,  7.80469930e-01],\n",
       "       [-2.14653842e-01,  1.02124813e+00],\n",
       "       [ 4.90561044e-01, -1.39528303e+00],\n",
       "       [ 1.03345080e+00, -1.46273275e-01],\n",
       "       [-1.55269878e+00,  5.78464420e-01],\n",
       "       [ 1.53653633e+00, -3.75008758e-04],\n",
       "       [-3.62812886e-02, -8.32395348e-01],\n",
       "       [ 1.10861676e+00, -7.02920403e-01],\n",
       "       [ 6.06548400e-01, -7.37289628e-01],\n",
       "       [-1.74549518e-02,  7.31402517e-01],\n",
       "       [ 5.99213235e-01, -1.47023709e+00],\n",
       "       [-5.69148654e-01, -1.06179676e+00],\n",
       "       [-2.86384915e-01, -8.70887650e-01],\n",
       "       [ 5.03170861e-02,  6.50323214e-01],\n",
       "       [ 1.92381543e+00, -6.05981321e-01],\n",
       "       [-3.94689681e-01, -1.17181338e+00],\n",
       "       [ 1.32247779e-01, -5.63236604e-01],\n",
       "       [-9.77773002e-01,  1.71957132e-01],\n",
       "       [ 6.77807571e-01, -1.10657307e+00],\n",
       "       [ 1.46765263e-01,  5.71804879e-01],\n",
       "       [ 3.94428030e-01,  7.25522558e-01],\n",
       "       [ 4.45096710e-01,  9.81122462e-02],\n",
       "       [-9.50909251e-01, -7.04350332e-01],\n",
       "       [-9.24323185e-02, -2.37875265e-01],\n",
       "       [ 9.84012237e-01, -5.59681422e-01],\n",
       "       [-8.57496825e-01, -9.34181843e-01],\n",
       "       [ 1.49588477e+00,  6.75453809e-01],\n",
       "       [ 1.16128569e+00,  1.06996554e+00],\n",
       "       [-8.92646674e-01, -1.61198320e-01],\n",
       "       [ 2.09096677e-01,  1.55501599e+00],\n",
       "       [-1.50504326e-01,  9.15499268e-01],\n",
       "       [-1.09033833e+00,  1.70018815e+00],\n",
       "       [-9.61263599e-01, -1.45832446e+00],\n",
       "       [-4.38200267e-01,  1.85535621e-01],\n",
       "       [-5.96086335e-01,  8.61623101e-01],\n",
       "       [ 5.01429590e-01, -4.78614074e-01],\n",
       "       [ 6.14726276e-01, -3.48984191e-01],\n",
       "       [ 1.29354962e+00, -4.38997664e-01],\n",
       "       [ 7.22518992e-02,  1.00978733e+00],\n",
       "       [-3.59901817e-02,  1.03703898e+00],\n",
       "       [ 3.21265914e-01, -7.25214926e-01],\n",
       "       [-7.67803746e-01, -3.64538050e-01],\n",
       "       [ 4.25920177e-01,  4.90803971e-02],\n",
       "       [-1.55694156e+00, -6.12442128e-01],\n",
       "       [ 3.32107876e+00, -6.00225330e-01],\n",
       "       [ 1.21794090e+00, -1.94068096e+00],\n",
       "       [-8.30010986e-01, -1.01951985e+00],\n",
       "       [-4.59717681e-01,  1.70548352e+00],\n",
       "       [ 4.97269099e-01,  2.37332699e-01]])"
      ]
     },
     "execution_count": 43,
     "metadata": {},
     "output_type": "execute_result"
    }
   ],
   "source": [
    "X_train"
   ]
  },
  {
   "cell_type": "code",
   "execution_count": 44,
   "id": "76ed08f7",
   "metadata": {},
   "outputs": [
    {
     "data": {
      "text/plain": [
       "SVC()"
      ]
     },
     "execution_count": 44,
     "metadata": {},
     "output_type": "execute_result"
    }
   ],
   "source": [
    "clf = svm.SVC()\n",
    "clf.fit(X_train, Y_train)"
   ]
  },
  {
   "cell_type": "code",
   "execution_count": 45,
   "id": "13dbbe50",
   "metadata": {},
   "outputs": [
    {
     "data": {
      "text/plain": [
       "array([[16,  0],\n",
       "       [ 2, 12]], dtype=int64)"
      ]
     },
     "execution_count": 45,
     "metadata": {},
     "output_type": "execute_result"
    }
   ],
   "source": [
    "# 予測結果を得る\n",
    "Y_pred = clf.predict(X_test)\n",
    "\n",
    "from sklearn.metrics import confusion_matrix\n",
    "confusion_matrix(y_true=Y_test, y_pred=Y_pred)"
   ]
  },
  {
   "cell_type": "code",
   "execution_count": 46,
   "id": "325a1855",
   "metadata": {},
   "outputs": [
    {
     "name": "stdout",
     "output_type": "stream",
     "text": [
      "正解率：0.9333333333333333\n",
      "適合率：1.0\n",
      "再現率：0.8571428571428571\n",
      "F1スコア：0.923076923076923\n"
     ]
    }
   ],
   "source": [
    "print('正解率：{}'.format(accuracy_score(y_true=Y_test, y_pred=Y_pred)))\n",
    "print('適合率：{}'.format(precision_score(y_true=Y_test, y_pred=Y_pred)))\n",
    "print('再現率：{}'.format(recall_score(y_true=Y_test, y_pred=Y_pred)))\n",
    "print('F1スコア：{}'.format(f1_score(y_true=Y_test, y_pred=Y_pred)))"
   ]
  },
  {
   "cell_type": "code",
   "execution_count": 47,
   "id": "7c88e4bf",
   "metadata": {},
   "outputs": [
    {
     "data": {
      "image/png": "[encoded data removed]",
      "text/plain": [
       "<Figure size 432x288 with 1 Axes>"
      ]
     },
     "metadata": {},
     "output_type": "display_data"
    }
   ],
   "source": [
    "import matplotlib.pyplot as plt\n",
    "\n",
    "# 散布図の作成\n",
    "matplotlib.style.use(\"seaborn-whitegrid\")\n",
    "plt.title(\"make gaussian quantiles : feature1, feature2\")\n",
    "plt.scatter(X[:, 0], X[:, 1], marker=\"o\", c=Y, edgecolor=\"k\")\n",
    "plt.xlabel(\"feature1\")\n",
    "plt.ylabel(\"feature2\")\n",
    "\n",
    "# 2Dの範囲を決める\n",
    "x1_min, x1_max = X[:, 0].min()-1, X[:, 0].max()+1\n",
    "x2_min, x2_max = X[:, 1].min()-1, X[:, 1].max()+1\n",
    "\n",
    "# 2D上のグリッドポイントを作成する\n",
    "resolution = 0.2\n",
    "x1 = np.arange(x1_min, x1_max, resolution)\n",
    "x2 = np.arange(x2_min, x2_max, resolution)\n",
    "xx1, xx2 = np.meshgrid(x1, x2)\n",
    "\n",
    "# グリッドポイント全てに学習モデルを適応\n",
    "# 各特徴量を1次元にして予測を実行\n",
    "Z = clf.predict(np.array([xx1.ravel(), xx2.ravel()]).T)\n",
    "\n",
    "# 予測結果を元のグリッドポイントのデータサイズに変換\n",
    "Z = Z.reshape(xx1.shape)\n",
    "# グリッドポイントの等高線をプロット\n",
    "plt.contour(xx1, xx2, Z)\n",
    "plt.show()"
   ]
  },
  {
   "cell_type": "code",
   "execution_count": 48,
   "id": "979530ee",
   "metadata": {},
   "outputs": [
    {
     "data": {
      "text/plain": [
       "array([[-4.05376438, -3.85376438, -3.65376438, ...,  3.74623562,\n",
       "         3.94623562,  4.14623562],\n",
       "       [-4.05376438, -3.85376438, -3.65376438, ...,  3.74623562,\n",
       "         3.94623562,  4.14623562],\n",
       "       [-4.05376438, -3.85376438, -3.65376438, ...,  3.74623562,\n",
       "         3.94623562,  4.14623562],\n",
       "       ...,\n",
       "       [-4.05376438, -3.85376438, -3.65376438, ...,  3.74623562,\n",
       "         3.94623562,  4.14623562],\n",
       "       [-4.05376438, -3.85376438, -3.65376438, ...,  3.74623562,\n",
       "         3.94623562,  4.14623562],\n",
       "       [-4.05376438, -3.85376438, -3.65376438, ...,  3.74623562,\n",
       "         3.94623562,  4.14623562]])"
      ]
     },
     "execution_count": 48,
     "metadata": {},
     "output_type": "execute_result"
    }
   ],
   "source": [
    "xx1"
   ]
  },
  {
   "cell_type": "code",
   "execution_count": 49,
   "id": "8a287750",
   "metadata": {},
   "outputs": [
    {
     "data": {
      "text/plain": [
       "(32, 42)"
      ]
     },
     "execution_count": 49,
     "metadata": {},
     "output_type": "execute_result"
    }
   ],
   "source": [
    "xx1.shape"
   ]
  },
  {
   "cell_type": "code",
   "execution_count": 50,
   "id": "8b112eab",
   "metadata": {},
   "outputs": [
    {
     "data": {
      "text/plain": [
       "array([[-2.95816909, -2.95816909, -2.95816909, ..., -2.95816909,\n",
       "        -2.95816909, -2.95816909],\n",
       "       [-2.75816909, -2.75816909, -2.75816909, ..., -2.75816909,\n",
       "        -2.75816909, -2.75816909],\n",
       "       [-2.55816909, -2.55816909, -2.55816909, ..., -2.55816909,\n",
       "        -2.55816909, -2.55816909],\n",
       "       ...,\n",
       "       [ 2.84183091,  2.84183091,  2.84183091, ...,  2.84183091,\n",
       "         2.84183091,  2.84183091],\n",
       "       [ 3.04183091,  3.04183091,  3.04183091, ...,  3.04183091,\n",
       "         3.04183091,  3.04183091],\n",
       "       [ 3.24183091,  3.24183091,  3.24183091, ...,  3.24183091,\n",
       "         3.24183091,  3.24183091]])"
      ]
     },
     "execution_count": 50,
     "metadata": {},
     "output_type": "execute_result"
    }
   ],
   "source": [
    "xx2"
   ]
  },
  {
   "cell_type": "code",
   "execution_count": 51,
   "id": "4d6f685a",
   "metadata": {},
   "outputs": [
    {
     "data": {
      "text/plain": [
       "(32, 42)"
      ]
     },
     "execution_count": 51,
     "metadata": {},
     "output_type": "execute_result"
    }
   ],
   "source": [
    "xx2.shape"
   ]
  },
  {
   "cell_type": "code",
   "execution_count": 52,
   "id": "6e1cf1b7",
   "metadata": {},
   "outputs": [
    {
     "data": {
      "text/plain": [
       "array([-4.05376438, -3.85376438, -3.65376438, ...,  3.74623562,\n",
       "        3.94623562,  4.14623562])"
      ]
     },
     "execution_count": 52,
     "metadata": {},
     "output_type": "execute_result"
    }
   ],
   "source": [
    "xx1.ravel()"
   ]
  },
  {
   "cell_type": "code",
   "execution_count": 53,
   "id": "2b48b082",
   "metadata": {},
   "outputs": [
    {
     "data": {
      "text/plain": [
       "array([-2.95816909, -2.95816909, -2.95816909, ...,  3.24183091,\n",
       "        3.24183091,  3.24183091])"
      ]
     },
     "execution_count": 53,
     "metadata": {},
     "output_type": "execute_result"
    }
   ],
   "source": [
    "xx2.ravel()"
   ]
  },
  {
   "cell_type": "code",
   "execution_count": 54,
   "id": "7fa70e28",
   "metadata": {},
   "outputs": [
    {
     "data": {
      "text/plain": [
       "array([[-4.05376438, -2.95816909],\n",
       "       [-3.85376438, -2.95816909],\n",
       "       [-3.65376438, -2.95816909],\n",
       "       ...,\n",
       "       [ 3.74623562,  3.24183091],\n",
       "       [ 3.94623562,  3.24183091],\n",
       "       [ 4.14623562,  3.24183091]])"
      ]
     },
     "execution_count": 54,
     "metadata": {},
     "output_type": "execute_result"
    }
   ],
   "source": [
    "# xx1とxx2の値をそれぞれ取得（Tは転置）\n",
    "np.array([xx1.ravel(), xx2.ravel()]).T"
   ]
  },
  {
   "cell_type": "code",
   "execution_count": 55,
   "id": "3dc3ff9d",
   "metadata": {},
   "outputs": [
    {
     "data": {
      "text/plain": [
       "(32, 42)"
      ]
     },
     "execution_count": 55,
     "metadata": {},
     "output_type": "execute_result"
    }
   ],
   "source": [
    "Z.shape"
   ]
  },
  {
   "cell_type": "code",
   "execution_count": null,
   "id": "fff4268a",
   "metadata": {},
   "outputs": [],
   "source": []
  }
 ],
 "metadata": {
  "kernelspec": {
   "display_name": "Python 3",
   "language": "python",
   "name": "python3"
  },
  "language_info": {
   "codemirror_mode": {
    "name": "ipython",
    "version": 3
   },
   "file_extension": ".py",
   "mimetype": "text/x-python",
   "name": "python",
   "nbconvert_exporter": "python",
   "pygments_lexer": "ipython3",
   "version": "3.8.8"
  }
 },
 "nbformat": 4,
 "nbformat_minor": 5
}
